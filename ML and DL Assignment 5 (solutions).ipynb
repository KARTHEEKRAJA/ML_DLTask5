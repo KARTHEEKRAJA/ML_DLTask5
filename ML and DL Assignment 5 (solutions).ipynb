{
 "cells": [
  {
   "cell_type": "markdown",
   "id": "0980c53f",
   "metadata": {},
   "source": [
    "#Task 5\n",
    "\n",
    "Registration ID : SIRSS1038\n",
    "\n",
    "Leela Satya Kartheek Raja"
   ]
  },
  {
   "cell_type": "markdown",
   "id": "bc7d9741",
   "metadata": {},
   "source": [
    "Q1. Given a list of integers, write a function to return the sum of all prime numbers in that\n",
    "list."
   ]
  },
  {
   "cell_type": "code",
   "execution_count": 2,
   "id": "938e2b71",
   "metadata": {},
   "outputs": [],
   "source": [
    "import math\n",
    "def prime(n):\n",
    "    if n == 0 or n == 1:\n",
    "        return False\n",
    "    else:\n",
    "        for i in range(2, int(n**0.5)+1):\n",
    "            if n%i == 0:\n",
    "                return False\n",
    "                break\n",
    "        else:\n",
    "            return True\n",
    "            \n",
    "def sum_prime(ls):\n",
    "    sum_of_primes=0\n",
    "    for i in ls:\n",
    "        if prime(i):\n",
    "            print(i)\n",
    "            sum_of_primes += i\n",
    "    return sum_of_primes"
   ]
  },
  {
   "cell_type": "code",
   "execution_count": 4,
   "id": "b9933c75",
   "metadata": {},
   "outputs": [
    {
     "name": "stdout",
     "output_type": "stream",
     "text": [
      "2\n",
      "3\n",
      "5\n",
      "11\n"
     ]
    },
    {
     "data": {
      "text/plain": [
       "21"
      ]
     },
     "execution_count": 4,
     "metadata": {},
     "output_type": "execute_result"
    }
   ],
   "source": [
    "sum_prime([0,1,2,3,4,5,10,11])"
   ]
  },
  {
   "cell_type": "markdown",
   "id": "852c1200",
   "metadata": {},
   "source": [
    "Q2. Given a list of integers, write a function to check whether the list is strictly increasing or\n",
    "not."
   ]
  },
  {
   "cell_type": "code",
   "execution_count": 5,
   "id": "3eea34fd",
   "metadata": {},
   "outputs": [],
   "source": [
    "def increasing(ls):\n",
    "    for i in range(1,len(ls)):\n",
    "        if ls[i] < ls[i-1]:\n",
    "            return False\n",
    "    return True"
   ]
  },
  {
   "cell_type": "code",
   "execution_count": 6,
   "id": "726f1d6b",
   "metadata": {},
   "outputs": [
    {
     "data": {
      "text/plain": [
       "False"
      ]
     },
     "execution_count": 6,
     "metadata": {},
     "output_type": "execute_result"
    }
   ],
   "source": [
    "increasing([0,-1,2,3,4,5,7])"
   ]
  },
  {
   "cell_type": "markdown",
   "id": "7e24b68b",
   "metadata": {},
   "source": [
    "Q3. Write a function to check whether a given list is expanding or not (the difference\n",
    "between adjacent elements should keep on increasing)."
   ]
  },
  {
   "cell_type": "code",
   "execution_count": 8,
   "id": "ef120344",
   "metadata": {},
   "outputs": [],
   "source": [
    "def expanding(l):\n",
    "    d1 = abs(l[1] - l[0])\n",
    "    d2 = abs(l[2] - l[1])\n",
    "    \n",
    "    if d1 >= d2:\n",
    "        return False\n",
    "    \n",
    "    else:\n",
    "        for i in range(3,len(l)):\n",
    "            d3 = abs(l[i] - l[i-1])\n",
    "            if d3 <= d2:\n",
    "                return False\n",
    "            d2 = d3\n",
    "        else:\n",
    "            return True"
   ]
  },
  {
   "cell_type": "code",
   "execution_count": 9,
   "id": "51fc2d43",
   "metadata": {},
   "outputs": [
    {
     "data": {
      "text/plain": [
       "True"
      ]
     },
     "execution_count": 9,
     "metadata": {},
     "output_type": "execute_result"
    }
   ],
   "source": [
    "expanding([1,3,7,2,9])"
   ]
  },
  {
   "cell_type": "markdown",
   "id": "cf8235f4",
   "metadata": {},
   "source": [
    "Q4. Write a function to calculate all permutations of a given string. (Without using itertools)"
   ]
  },
  {
   "cell_type": "code",
   "execution_count": 12,
   "id": "0d5403cd",
   "metadata": {},
   "outputs": [
    {
     "name": "stdout",
     "output_type": "stream",
     "text": [
      "Enter the word : abc\n",
      "Permutations of given string  abc are :\n",
      "abc\n",
      "acb\n",
      "bac\n",
      "bca\n",
      "cba\n",
      "cab\n"
     ]
    }
   ],
   "source": [
    "def toString(lst):\n",
    "    return ''.join(lst)\n",
    "def permute(a, l, r):\n",
    "    if l==r:\n",
    "        print(toString(a))\n",
    "    else:\n",
    "        for i in range(l,r+1):\n",
    "            a[l], a[i] = a[i], a[l]\n",
    "            permute(a, l+1, r)\n",
    "            a[l], a[i] = a[i], a[l] \n",
    "\n",
    "if __name__=='__main__':\n",
    "    string = input(\"Enter the word : \")\n",
    "    n = len(string)\n",
    "    a = list(string)\n",
    "    print('Permutations of given string  '+string+' are :')\n",
    "    permute(a, 0, n-1)"
   ]
  },
  {
   "cell_type": "code",
   "execution_count": null,
   "id": "e6ca5c84",
   "metadata": {},
   "outputs": [],
   "source": []
  }
 ],
 "metadata": {
  "kernelspec": {
   "display_name": "Python 3",
   "language": "python",
   "name": "python3"
  },
  "language_info": {
   "codemirror_mode": {
    "name": "ipython",
    "version": 3
   },
   "file_extension": ".py",
   "mimetype": "text/x-python",
   "name": "python",
   "nbconvert_exporter": "python",
   "pygments_lexer": "ipython3",
   "version": "3.8.8"
  }
 },
 "nbformat": 4,
 "nbformat_minor": 5
}
